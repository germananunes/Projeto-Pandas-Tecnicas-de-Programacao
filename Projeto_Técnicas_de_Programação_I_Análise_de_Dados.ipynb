{
  "cells": [
    {
      "cell_type": "markdown",
      "metadata": {
        "id": "OwnjctYVYDiH"
      },
      "source": [
        "## Análise de Dados - Cursos plataforma de ensino *online*\n",
        "\n",
        "A análise de dados é uma ferramenta essencial para impulsionar os negócios de uma empresa, e consequentemente, agregar valor.\n",
        "<br>\n",
        "<br>\n",
        "Um dos profissionais necessários para a geração de valor para empresas, é o cientista/analista de dados. Este profissional é capaz de retirar insights de diversas fontes de dados.\n",
        "<br>\n",
        "<br>\n",
        "Dito tudo isso, você, como cientista/analista de dados recebeu a missão de analisar dados de uma empresa ensino online de tecnologia. Seu principal objetivo, é através dos dados (disponibilizados na <a href=\"https://drive.google.com/file/d/1PE-9PTK5twBuUOuuKAk3Oo02Is8Dr8q-/view?usp=share_link\">pasta compartilhada</a> deste módulo), é o de responder algumas perguntas de negócios para auxiliar a empresa a aprimorar os seus serviços e produtos.\n",
        "<br>\n",
        "<br>\n",
        "Detalhes da base de dados podem ser vistos na plataforma Kaggle pelo <a href=\"https://www.kaggle.com/datasets/thedevastator/udemy-courses-revenue-generation-and-course-anal\">link</a>\n",
        "<br>\n",
        "<br>\n",
        "Para isso, use os conhecimentos obtidos neste módulo (e anteriores) para responder as seguintes questões:\n",
        "\n",
        "**Dicas:**\n",
        "\n",
        "- Serão três diferentes bases de dados disponibilizadas na pasta do módulo, separadas por assunto (curso). Porém, todas elas contêm o mesmo cabeçalho. Logo, para que consiga responder as perguntas abaixo, unifique-as em um único **DataFrame** do pandas, e realize as análises.\n",
        "- Não é necessário criar gráficos/visualizações para apresentar os resultados de cada pergunta. Porém, se você estiver confortável para criá-los quando necessário, fique à vontade."
      ]
    },
    {
      "cell_type": "markdown",
      "metadata": {
        "id": "CAutWLQXtZm1"
      },
      "source": [
        "### Perguntas a serem respondidas a partir dos dados."
      ]
    },
    {
      "cell_type": "code",
      "execution_count": 2,
      "metadata": {},
      "outputs": [],
      "source": [
        "import numpy as np\n",
        "import pandas as pd\n",
        "import matplotlib.pyplot as plt"
      ]
    },
    {
      "cell_type": "code",
      "execution_count": 3,
      "metadata": {},
      "outputs": [],
      "source": [
        "bc = pd.read_csv(\"C:\\\\Users\\\\Germana\\\\Documents\\\\vscode\\\\projeto tp1\\\\Projeto\\\\base de dados\\\\3.1-data-sheet-udemy-courses-business-courses.csv\", sep=',')\n",
        "dc = pd.read_csv(\"C:\\\\Users\\\\Germana\\\\Documents\\\\vscode\\\\projeto tp1\\\\Projeto\\\\base de dados\\\\3.1-data-sheet-udemy-courses-design-courses.csv\", sep=',')\n",
        "mc = pd.read_csv(\"C:\\\\Users\\\\Germana\\\\Documents\\\\vscode\\\\projeto tp1\\\\Projeto\\\\base de dados\\\\3.1-data-sheet-udemy-courses-music-courses.csv\", sep=',')\n",
        "wd = pd.read_csv(\"C:\\\\Users\\\\Germana\\\\Documents\\\\vscode\\\\projeto tp1\\\\Projeto\\\\base de dados\\\\3.1-data-sheet-udemy-courses-web-development.csv\", sep=',')\n",
        "\n"
      ]
    },
    {
      "cell_type": "code",
      "execution_count": 4,
      "metadata": {},
      "outputs": [
        {
          "data": {
            "text/html": [
              "<div>\n",
              "<style scoped>\n",
              "    .dataframe tbody tr th:only-of-type {\n",
              "        vertical-align: middle;\n",
              "    }\n",
              "\n",
              "    .dataframe tbody tr th {\n",
              "        vertical-align: top;\n",
              "    }\n",
              "\n",
              "    .dataframe thead th {\n",
              "        text-align: right;\n",
              "    }\n",
              "</style>\n",
              "<table border=\"1\" class=\"dataframe\">\n",
              "  <thead>\n",
              "    <tr style=\"text-align: right;\">\n",
              "      <th></th>\n",
              "      <th></th>\n",
              "      <th>course_id</th>\n",
              "      <th>course_title</th>\n",
              "      <th>url</th>\n",
              "      <th>price</th>\n",
              "      <th>num_subscribers</th>\n",
              "      <th>num_reviews</th>\n",
              "      <th>num_lectures</th>\n",
              "      <th>level</th>\n",
              "      <th>Rating</th>\n",
              "      <th>content_duration</th>\n",
              "      <th>published_timestamp</th>\n",
              "      <th>subject</th>\n",
              "    </tr>\n",
              "  </thead>\n",
              "  <tbody>\n",
              "    <tr>\n",
              "      <th rowspan=\"5\" valign=\"top\">Business</th>\n",
              "      <th>0</th>\n",
              "      <td>49798.0</td>\n",
              "      <td>Bitcoin or How I Learned to Stop Worrying and ...</td>\n",
              "      <td>https://www.udemy.com/bitcoin-or-how-i-learned...</td>\n",
              "      <td>0.0</td>\n",
              "      <td>65576.0</td>\n",
              "      <td>936.0</td>\n",
              "      <td>24.0</td>\n",
              "      <td>All Levels</td>\n",
              "      <td>0.56</td>\n",
              "      <td>8.0</td>\n",
              "      <td>2013-04-20T02:25:22Z</td>\n",
              "      <td>Business Finance</td>\n",
              "    </tr>\n",
              "    <tr>\n",
              "      <th>1</th>\n",
              "      <td>48841.0</td>\n",
              "      <td>Accounting in 60 Minutes - A Brief Introduction</td>\n",
              "      <td>https://www.udemy.com/accounting-in-60-minutes...</td>\n",
              "      <td>0.0</td>\n",
              "      <td>56659.0</td>\n",
              "      <td>4397.0</td>\n",
              "      <td>16.0</td>\n",
              "      <td>Beginner Level</td>\n",
              "      <td>0.95</td>\n",
              "      <td>1.5</td>\n",
              "      <td>2013-04-07T21:39:25Z</td>\n",
              "      <td>Business Finance</td>\n",
              "    </tr>\n",
              "    <tr>\n",
              "      <th>2</th>\n",
              "      <td>133536.0</td>\n",
              "      <td>Stock Market Investing for Beginners</td>\n",
              "      <td>https://www.udemy.com/the-beginners-guide-to-t...</td>\n",
              "      <td>0.0</td>\n",
              "      <td>50855.0</td>\n",
              "      <td>2698.0</td>\n",
              "      <td>15.0</td>\n",
              "      <td>All Levels</td>\n",
              "      <td>0.91</td>\n",
              "      <td>1.5</td>\n",
              "      <td>2013-12-25T19:53:34Z</td>\n",
              "      <td>Business Finance</td>\n",
              "    </tr>\n",
              "    <tr>\n",
              "      <th>3</th>\n",
              "      <td>151668.0</td>\n",
              "      <td>Introduction to Financial Modeling</td>\n",
              "      <td>https://www.udemy.com/financial-modeling-asimp...</td>\n",
              "      <td>0.0</td>\n",
              "      <td>29167.0</td>\n",
              "      <td>1463.0</td>\n",
              "      <td>8.0</td>\n",
              "      <td>All Levels</td>\n",
              "      <td>0.18</td>\n",
              "      <td>1.5</td>\n",
              "      <td>2014-05-27T16:22:16Z</td>\n",
              "      <td>Business Finance</td>\n",
              "    </tr>\n",
              "    <tr>\n",
              "      <th>4</th>\n",
              "      <td>648826.0</td>\n",
              "      <td>The Complete Financial Analyst Course 2017</td>\n",
              "      <td>https://www.udemy.com/the-complete-financial-a...</td>\n",
              "      <td>195.0</td>\n",
              "      <td>24481.0</td>\n",
              "      <td>2347.0</td>\n",
              "      <td>174.0</td>\n",
              "      <td>All Levels</td>\n",
              "      <td>0.37</td>\n",
              "      <td>10.0</td>\n",
              "      <td>2016-01-21T01:38:48Z</td>\n",
              "      <td>Business Finance</td>\n",
              "    </tr>\n",
              "    <tr>\n",
              "      <th>...</th>\n",
              "      <th>...</th>\n",
              "      <td>...</td>\n",
              "      <td>...</td>\n",
              "      <td>...</td>\n",
              "      <td>...</td>\n",
              "      <td>...</td>\n",
              "      <td>...</td>\n",
              "      <td>...</td>\n",
              "      <td>...</td>\n",
              "      <td>...</td>\n",
              "      <td>...</td>\n",
              "      <td>...</td>\n",
              "      <td>...</td>\n",
              "    </tr>\n",
              "    <tr>\n",
              "      <th rowspan=\"5\" valign=\"top\">Web Dev</th>\n",
              "      <th>1200</th>\n",
              "      <td>1227578.0</td>\n",
              "      <td>Learning Path: The Road to Elasticsearch</td>\n",
              "      <td>https://www.udemy.com/learning-path-the-road-t...</td>\n",
              "      <td>200.0</td>\n",
              "      <td>50.0</td>\n",
              "      <td>5.0</td>\n",
              "      <td>60.0</td>\n",
              "      <td>Beginner Level</td>\n",
              "      <td>0.96</td>\n",
              "      <td>5.0</td>\n",
              "      <td>2017-05-29T17:56:24Z</td>\n",
              "      <td>Subject: Web Development</td>\n",
              "    </tr>\n",
              "    <tr>\n",
              "      <th>1201</th>\n",
              "      <td>1277924.0</td>\n",
              "      <td>Angular 4 Front To Back</td>\n",
              "      <td>https://www.udemy.com/angular-4-front-to-back/</td>\n",
              "      <td>40.0</td>\n",
              "      <td>44.0</td>\n",
              "      <td>0.0</td>\n",
              "      <td>68.0</td>\n",
              "      <td>All Levels</td>\n",
              "      <td>0.15</td>\n",
              "      <td>8.5</td>\n",
              "      <td>2017-07-06T15:04:55Z</td>\n",
              "      <td>Subject: Web Development</td>\n",
              "    </tr>\n",
              "    <tr>\n",
              "      <th>1202</th>\n",
              "      <td>1248172.0</td>\n",
              "      <td>Essentials of Spring 5.0 for Developers</td>\n",
              "      <td>https://www.udemy.com/essentials-of-spring-50-...</td>\n",
              "      <td>125.0</td>\n",
              "      <td>34.0</td>\n",
              "      <td>2.0</td>\n",
              "      <td>21.0</td>\n",
              "      <td>Beginner Level</td>\n",
              "      <td>0.46</td>\n",
              "      <td>1.5</td>\n",
              "      <td>2017-06-11T18:34:40Z</td>\n",
              "      <td>Subject: Web Development</td>\n",
              "    </tr>\n",
              "    <tr>\n",
              "      <th>1203</th>\n",
              "      <td>1250934.0</td>\n",
              "      <td>Display and analyze GIS data on the web with L...</td>\n",
              "      <td>https://www.udemy.com/display-and-analyze-gis-...</td>\n",
              "      <td>100.0</td>\n",
              "      <td>25.0</td>\n",
              "      <td>4.0</td>\n",
              "      <td>66.0</td>\n",
              "      <td>Beginner Level</td>\n",
              "      <td>0.67</td>\n",
              "      <td>12.5</td>\n",
              "      <td>2017-06-15T21:17:43Z</td>\n",
              "      <td>Subject: Web Development</td>\n",
              "    </tr>\n",
              "    <tr>\n",
              "      <th>1204</th>\n",
              "      <td>1270222.0</td>\n",
              "      <td>Learning Path: Web Applications with Spring an...</td>\n",
              "      <td>https://www.udemy.com/learning-path-web-applic...</td>\n",
              "      <td>200.0</td>\n",
              "      <td>19.0</td>\n",
              "      <td>2.0</td>\n",
              "      <td>33.0</td>\n",
              "      <td>Beginner Level</td>\n",
              "      <td>0.12</td>\n",
              "      <td>4.0</td>\n",
              "      <td>2017-06-28T21:04:21Z</td>\n",
              "      <td>Subject: Web Development</td>\n",
              "    </tr>\n",
              "  </tbody>\n",
              "</table>\n",
              "<p>3681 rows × 12 columns</p>\n",
              "</div>"
            ],
            "text/plain": [
              "               course_id                                       course_title  \\\n",
              "Business 0       49798.0  Bitcoin or How I Learned to Stop Worrying and ...   \n",
              "         1       48841.0    Accounting in 60 Minutes - A Brief Introduction   \n",
              "         2      133536.0               Stock Market Investing for Beginners   \n",
              "         3      151668.0                 Introduction to Financial Modeling   \n",
              "         4      648826.0         The Complete Financial Analyst Course 2017   \n",
              "...                  ...                                                ...   \n",
              "Web Dev  1200  1227578.0           Learning Path: The Road to Elasticsearch   \n",
              "         1201  1277924.0                            Angular 4 Front To Back   \n",
              "         1202  1248172.0            Essentials of Spring 5.0 for Developers   \n",
              "         1203  1250934.0  Display and analyze GIS data on the web with L...   \n",
              "         1204  1270222.0  Learning Path: Web Applications with Spring an...   \n",
              "\n",
              "                                                             url  price  \\\n",
              "Business 0     https://www.udemy.com/bitcoin-or-how-i-learned...    0.0   \n",
              "         1     https://www.udemy.com/accounting-in-60-minutes...    0.0   \n",
              "         2     https://www.udemy.com/the-beginners-guide-to-t...    0.0   \n",
              "         3     https://www.udemy.com/financial-modeling-asimp...    0.0   \n",
              "         4     https://www.udemy.com/the-complete-financial-a...  195.0   \n",
              "...                                                          ...    ...   \n",
              "Web Dev  1200  https://www.udemy.com/learning-path-the-road-t...  200.0   \n",
              "         1201     https://www.udemy.com/angular-4-front-to-back/   40.0   \n",
              "         1202  https://www.udemy.com/essentials-of-spring-50-...  125.0   \n",
              "         1203  https://www.udemy.com/display-and-analyze-gis-...  100.0   \n",
              "         1204  https://www.udemy.com/learning-path-web-applic...  200.0   \n",
              "\n",
              "               num_subscribers  num_reviews  num_lectures           level  \\\n",
              "Business 0             65576.0        936.0          24.0      All Levels   \n",
              "         1             56659.0       4397.0          16.0  Beginner Level   \n",
              "         2             50855.0       2698.0          15.0      All Levels   \n",
              "         3             29167.0       1463.0           8.0      All Levels   \n",
              "         4             24481.0       2347.0         174.0      All Levels   \n",
              "...                        ...          ...           ...             ...   \n",
              "Web Dev  1200             50.0          5.0          60.0  Beginner Level   \n",
              "         1201             44.0          0.0          68.0      All Levels   \n",
              "         1202             34.0          2.0          21.0  Beginner Level   \n",
              "         1203             25.0          4.0          66.0  Beginner Level   \n",
              "         1204             19.0          2.0          33.0  Beginner Level   \n",
              "\n",
              "               Rating  content_duration   published_timestamp  \\\n",
              "Business 0       0.56               8.0  2013-04-20T02:25:22Z   \n",
              "         1       0.95               1.5  2013-04-07T21:39:25Z   \n",
              "         2       0.91               1.5  2013-12-25T19:53:34Z   \n",
              "         3       0.18               1.5  2014-05-27T16:22:16Z   \n",
              "         4       0.37              10.0  2016-01-21T01:38:48Z   \n",
              "...               ...               ...                   ...   \n",
              "Web Dev  1200    0.96               5.0  2017-05-29T17:56:24Z   \n",
              "         1201    0.15               8.5  2017-07-06T15:04:55Z   \n",
              "         1202    0.46               1.5  2017-06-11T18:34:40Z   \n",
              "         1203    0.67              12.5  2017-06-15T21:17:43Z   \n",
              "         1204    0.12               4.0  2017-06-28T21:04:21Z   \n",
              "\n",
              "                                subject  \n",
              "Business 0             Business Finance  \n",
              "         1             Business Finance  \n",
              "         2             Business Finance  \n",
              "         3             Business Finance  \n",
              "         4             Business Finance  \n",
              "...                                 ...  \n",
              "Web Dev  1200  Subject: Web Development  \n",
              "         1201  Subject: Web Development  \n",
              "         1202  Subject: Web Development  \n",
              "         1203  Subject: Web Development  \n",
              "         1204  Subject: Web Development  \n",
              "\n",
              "[3681 rows x 12 columns]"
            ]
          },
          "execution_count": 4,
          "metadata": {},
          "output_type": "execute_result"
        }
      ],
      "source": [
        "conc_course = pd.concat([bc,dc,mc,wd], \n",
        "keys = \n",
        "    [\n",
        "    'Business',\n",
        "    'Design',\n",
        "    'Music',\n",
        "    'Web Dev'\n",
        "    ]\n",
        "    )\n",
        "conc_course"
      ]
    },
    {
      "cell_type": "markdown",
      "metadata": {
        "id": "LxbUDG_aoEJX"
      },
      "source": [
        "1. Quantos cursos estão disponíveis na plataforma?"
      ]
    },
    {
      "cell_type": "code",
      "execution_count": 5,
      "metadata": {
        "id": "JVc3skEVoPr8"
      },
      "outputs": [
        {
          "name": "stdout",
          "output_type": "stream",
          "text": [
            "Considerando as áreas temáticas Business, Design, Music e Web Dev, são 3681 cursos disponíveis\n"
          ]
        }
      ],
      "source": [
        "print(f'Considerando as áreas temáticas Business, Design, Music e Web Dev, são {conc_course.shape[0]} cursos disponíveis')"
      ]
    },
    {
      "cell_type": "markdown",
      "metadata": {
        "id": "eFKSLDeyoQCF"
      },
      "source": [
        "2. Quais e quantos são os cursos que abordam o assunto: JavaScript?"
      ]
    },
    {
      "cell_type": "code",
      "execution_count": 6,
      "metadata": {
        "id": "z1cLUiw8okVI"
      },
      "outputs": [
        {
          "name": "stdout",
          "output_type": "stream",
          "text": [
            "Ao todo, são 150 cursos que abordam JavaScript\n"
          ]
        }
      ],
      "source": [
        "js = conc_course[conc_course['course_title'].str.contains('Java', 'cript', na=False)].shape[0]\n",
        "print(f'Ao todo, são {js} cursos que abordam JavaScript')"
      ]
    },
    {
      "cell_type": "markdown",
      "metadata": {
        "id": "G4cUox4RooOk"
      },
      "source": [
        "3. Qual é o preço médio (coluna *price*) dos cursos oferecidos na plataforma?"
      ]
    },
    {
      "cell_type": "code",
      "execution_count": 7,
      "metadata": {
        "id": "FKOIIjcVo3xg"
      },
      "outputs": [
        {
          "data": {
            "text/plain": [
              "66.11534276387377"
            ]
          },
          "execution_count": 7,
          "metadata": {},
          "output_type": "execute_result"
        }
      ],
      "source": [
        "conc_course['price'].mean()"
      ]
    },
    {
      "cell_type": "markdown",
      "metadata": {
        "id": "e-zGn_o0o2go"
      },
      "source": [
        "4. Quais são os cinco cursos com maior número de inscritos (coluna *num_subscribers*)?"
      ]
    },
    {
      "cell_type": "code",
      "execution_count": 8,
      "metadata": {
        "id": "ewd5ZmqcpFND"
      },
      "outputs": [
        {
          "data": {
            "text/html": [
              "<div>\n",
              "<style scoped>\n",
              "    .dataframe tbody tr th:only-of-type {\n",
              "        vertical-align: middle;\n",
              "    }\n",
              "\n",
              "    .dataframe tbody tr th {\n",
              "        vertical-align: top;\n",
              "    }\n",
              "\n",
              "    .dataframe thead th {\n",
              "        text-align: right;\n",
              "    }\n",
              "</style>\n",
              "<table border=\"1\" class=\"dataframe\">\n",
              "  <thead>\n",
              "    <tr style=\"text-align: right;\">\n",
              "      <th></th>\n",
              "      <th></th>\n",
              "      <th>course_title</th>\n",
              "      <th>Rating</th>\n",
              "      <th>num_subscribers</th>\n",
              "    </tr>\n",
              "  </thead>\n",
              "  <tbody>\n",
              "    <tr>\n",
              "      <th rowspan=\"5\" valign=\"top\">Web Dev</th>\n",
              "      <th>0</th>\n",
              "      <td>Learn HTML5 Programming From Scratch</td>\n",
              "      <td>0.82</td>\n",
              "      <td>268923.0</td>\n",
              "    </tr>\n",
              "    <tr>\n",
              "      <th>1</th>\n",
              "      <td>Coding for Entrepreneurs Basic</td>\n",
              "      <td>0.69</td>\n",
              "      <td>161029.0</td>\n",
              "    </tr>\n",
              "    <tr>\n",
              "      <th>2</th>\n",
              "      <td>The Web Developer Bootcamp</td>\n",
              "      <td>0.89</td>\n",
              "      <td>121584.0</td>\n",
              "    </tr>\n",
              "    <tr>\n",
              "      <th>3</th>\n",
              "      <td>Build Your First Website in 1 Week with HTML5 ...</td>\n",
              "      <td>0.78</td>\n",
              "      <td>120291.0</td>\n",
              "    </tr>\n",
              "    <tr>\n",
              "      <th>4</th>\n",
              "      <td>The Complete Web Developer Course 2.0</td>\n",
              "      <td>0.55</td>\n",
              "      <td>114512.0</td>\n",
              "    </tr>\n",
              "  </tbody>\n",
              "</table>\n",
              "</div>"
            ],
            "text/plain": [
              "                                                course_title  Rating  \\\n",
              "Web Dev 0               Learn HTML5 Programming From Scratch    0.82   \n",
              "        1                     Coding for Entrepreneurs Basic    0.69   \n",
              "        2                         The Web Developer Bootcamp    0.89   \n",
              "        3  Build Your First Website in 1 Week with HTML5 ...    0.78   \n",
              "        4              The Complete Web Developer Course 2.0    0.55   \n",
              "\n",
              "           num_subscribers  \n",
              "Web Dev 0         268923.0  \n",
              "        1         161029.0  \n",
              "        2         121584.0  \n",
              "        3         120291.0  \n",
              "        4         114512.0  "
            ]
          },
          "execution_count": 8,
          "metadata": {},
          "output_type": "execute_result"
        },
        {
          "data": {
            "image/png": "[encoded data removed]",
            "text/plain": [
              "<Figure size 640x480 with 1 Axes>"
            ]
          },
          "metadata": {},
          "output_type": "display_data"
        }
      ],
      "source": [
        "#conc_course.info(verbose=True)\n",
        "\n",
        "ranking = conc_course.sort_values(by=['num_subscribers'], ascending=False).head(5)\n",
        "ranking.plot(x = 'course_title', y = 'num_subscribers', kind='bar')\n",
        "ranking.filter(items=['course_title','Rating','num_subscribers'])"
      ]
    },
    {
      "cell_type": "markdown",
      "metadata": {
        "id": "VIN541HgpEwf"
      },
      "source": [
        "5. Dos cinco cursos mais populares em termos de inscritos, mostre o **rate médio**, **máximo** e **mínimo** de cada um deles."
      ]
    },
    {
      "cell_type": "code",
      "execution_count": 9,
      "metadata": {
        "id": "OHt_xYF2pfb5"
      },
      "outputs": [
        {
          "data": {
            "text/html": [
              "<div>\n",
              "<style scoped>\n",
              "    .dataframe tbody tr th:only-of-type {\n",
              "        vertical-align: middle;\n",
              "    }\n",
              "\n",
              "    .dataframe tbody tr th {\n",
              "        vertical-align: top;\n",
              "    }\n",
              "\n",
              "    .dataframe thead th {\n",
              "        text-align: right;\n",
              "    }\n",
              "</style>\n",
              "<table border=\"1\" class=\"dataframe\">\n",
              "  <thead>\n",
              "    <tr style=\"text-align: right;\">\n",
              "      <th></th>\n",
              "      <th>index</th>\n",
              "      <th>Rating</th>\n",
              "    </tr>\n",
              "  </thead>\n",
              "  <tbody>\n",
              "    <tr>\n",
              "      <th>0</th>\n",
              "      <td>mean</td>\n",
              "      <td>0.746</td>\n",
              "    </tr>\n",
              "    <tr>\n",
              "      <th>1</th>\n",
              "      <td>max</td>\n",
              "      <td>0.890</td>\n",
              "    </tr>\n",
              "    <tr>\n",
              "      <th>2</th>\n",
              "      <td>min</td>\n",
              "      <td>0.550</td>\n",
              "    </tr>\n",
              "  </tbody>\n",
              "</table>\n",
              "</div>"
            ],
            "text/plain": [
              "  index  Rating\n",
              "0  mean   0.746\n",
              "1   max   0.890\n",
              "2   min   0.550"
            ]
          },
          "execution_count": 9,
          "metadata": {},
          "output_type": "execute_result"
        }
      ],
      "source": [
        "#conc_course.info(verbose=True)\n",
        "ranking['Rating'].agg(['mean','max','min']).reset_index()"
      ]
    },
    {
      "cell_type": "markdown",
      "metadata": {
        "id": "PBMQyyHTpZ1x"
      },
      "source": [
        "6. Apresente os dez cursos mais visualizados na plataforma."
      ]
    },
    {
      "cell_type": "code",
      "execution_count": 10,
      "metadata": {
        "id": "hX7kvC5OqYVt"
      },
      "outputs": [
        {
          "data": {
            "text/html": [
              "<div>\n",
              "<style scoped>\n",
              "    .dataframe tbody tr th:only-of-type {\n",
              "        vertical-align: middle;\n",
              "    }\n",
              "\n",
              "    .dataframe tbody tr th {\n",
              "        vertical-align: top;\n",
              "    }\n",
              "\n",
              "    .dataframe thead th {\n",
              "        text-align: right;\n",
              "    }\n",
              "</style>\n",
              "<table border=\"1\" class=\"dataframe\">\n",
              "  <thead>\n",
              "    <tr style=\"text-align: right;\">\n",
              "      <th></th>\n",
              "      <th></th>\n",
              "      <th>course_title</th>\n",
              "      <th>Rating</th>\n",
              "      <th>num_reviews</th>\n",
              "      <th>num_subscribers</th>\n",
              "    </tr>\n",
              "  </thead>\n",
              "  <tbody>\n",
              "    <tr>\n",
              "      <th rowspan=\"5\" valign=\"top\">Web Dev</th>\n",
              "      <th>2</th>\n",
              "      <td>The Web Developer Bootcamp</td>\n",
              "      <td>0.89</td>\n",
              "      <td>27445.0</td>\n",
              "      <td>121584.0</td>\n",
              "    </tr>\n",
              "    <tr>\n",
              "      <th>4</th>\n",
              "      <td>The Complete Web Developer Course 2.0</td>\n",
              "      <td>0.55</td>\n",
              "      <td>22412.0</td>\n",
              "      <td>114512.0</td>\n",
              "    </tr>\n",
              "    <tr>\n",
              "      <th>9</th>\n",
              "      <td>Angular 4 (formerly Angular 2) - The Complete ...</td>\n",
              "      <td>0.90</td>\n",
              "      <td>19649.0</td>\n",
              "      <td>73783.0</td>\n",
              "    </tr>\n",
              "    <tr>\n",
              "      <th>8</th>\n",
              "      <td>JavaScript: Understanding the Weird Parts</td>\n",
              "      <td>0.69</td>\n",
              "      <td>16976.0</td>\n",
              "      <td>79612.0</td>\n",
              "    </tr>\n",
              "    <tr>\n",
              "      <th>21</th>\n",
              "      <td>Modern React with Redux</td>\n",
              "      <td>0.62</td>\n",
              "      <td>15117.0</td>\n",
              "      <td>50815.0</td>\n",
              "    </tr>\n",
              "  </tbody>\n",
              "</table>\n",
              "</div>"
            ],
            "text/plain": [
              "                                                 course_title  Rating  \\\n",
              "Web Dev 2                          The Web Developer Bootcamp    0.89   \n",
              "        4               The Complete Web Developer Course 2.0    0.55   \n",
              "        9   Angular 4 (formerly Angular 2) - The Complete ...    0.90   \n",
              "        8           JavaScript: Understanding the Weird Parts    0.69   \n",
              "        21                            Modern React with Redux    0.62   \n",
              "\n",
              "            num_reviews  num_subscribers  \n",
              "Web Dev 2       27445.0         121584.0  \n",
              "        4       22412.0         114512.0  \n",
              "        9       19649.0          73783.0  \n",
              "        8       16976.0          79612.0  \n",
              "        21      15117.0          50815.0  "
            ]
          },
          "execution_count": 10,
          "metadata": {},
          "output_type": "execute_result"
        }
      ],
      "source": [
        "#conc_course.info(verbose=True)\n",
        "ranking_views = conc_course.sort_values(by=['num_reviews'], ascending=False).head(5)\n",
        "ranking_views.filter(items=['course_title','Rating','num_reviews','num_subscribers'])"
      ]
    },
    {
      "cell_type": "code",
      "execution_count": 11,
      "metadata": {},
      "outputs": [
        {
          "data": {
            "text/plain": [
              "<AxesSubplot: xlabel='course_title'>"
            ]
          },
          "execution_count": 11,
          "metadata": {},
          "output_type": "execute_result"
        },
        {
          "data": {
            "image/png": "[encoded data removed]",
            "text/plain": [
              "<Figure size 640x480 with 1 Axes>"
            ]
          },
          "metadata": {},
          "output_type": "display_data"
        }
      ],
      "source": [
        "ranking_views.plot(x = 'course_title', y = 'num_reviews', kind='bar')"
      ]
    },
    {
      "cell_type": "markdown",
      "metadata": {
        "id": "r4bFZBMIpqlu"
      },
      "source": [
        "7. A partir dos dez cursos mais vistos, mostre: 1) qual tem o maior número de inscritos; 2) qual tem o maior **rate** (avaliação do curso)."
      ]
    },
    {
      "cell_type": "code",
      "execution_count": 12,
      "metadata": {},
      "outputs": [
        {
          "name": "stdout",
          "output_type": "stream",
          "text": [
            "O curso The Web Developer Bootcamp possui o maior número de inscritos com 121584.0 inscrições\n",
            "O curso Angular 4 (formerly Angular 2) - The Complete Guide é o melhor avaliado com nota 0.9\n"
          ]
        }
      ],
      "source": [
        "subs_max = ranking_views['num_subscribers'].max()\n",
        "\n",
        "rate_max = ranking_views['Rating'].max()\n",
        "\n",
        "course_subs_max = ranking_views[ranking_views['num_subscribers'] == subs_max]['course_title']\n",
        "\n",
        "course_rate_max = ranking_views[ranking_views['Rating'] == rate_max]['course_title']\n",
        "\n",
        "print(f'O curso {course_subs_max.iloc[0]} possui o maior número de inscritos com {subs_max} inscrições')\n",
        "\n",
        "print(f'O curso {course_rate_max.iloc[0]} é o melhor avaliado com nota {rate_max}')\n"
      ]
    },
    {
      "cell_type": "markdown",
      "metadata": {
        "id": "Gao_HBG1qZY9"
      },
      "source": [
        "8. Dos cursos listados na base de dados, qual tem maior duração em horas?"
      ]
    },
    {
      "cell_type": "code",
      "execution_count": 13,
      "metadata": {
        "id": "MvSGEfH9qqQK"
      },
      "outputs": [
        {
          "name": "stdout",
          "output_type": "stream",
          "text": [
            "O curso The Complete Figure Drawing Course HD é o que tem maior duração com 78.5 horas\n"
          ]
        }
      ],
      "source": [
        "#conc_course.info(verbose=True)\n",
        "\n",
        "duration_max = conc_course['content_duration'].max()\n",
        "course_dur_max = conc_course[conc_course['content_duration'] == duration_max]['course_title']\n",
        "\n",
        "print(f'O curso {course_dur_max.iloc[0]} é o que tem maior duração com {duration_max} horas')"
      ]
    },
    {
      "cell_type": "markdown",
      "metadata": {
        "id": "69Evu8BLqrS_"
      },
      "source": [
        "9. Dos cursos listados na base de dados, qual tem o maior número de aulas (*lectures*)?"
      ]
    },
    {
      "cell_type": "code",
      "execution_count": 14,
      "metadata": {
        "id": "5uqzhyXmqge0"
      },
      "outputs": [
        {
          "name": "stdout",
          "output_type": "stream",
          "text": [
            "O curso Back to School Web Development and Programming Bundle é o que tem o maior número de aulas com 779.0 lectures\n"
          ]
        }
      ],
      "source": [
        "#conc_course.info(verbose=True)\n",
        "\n",
        "lectures_max = conc_course['num_lectures'].max()\n",
        "course_lectures_max = conc_course[conc_course['num_lectures'] == lectures_max]['course_title']\n",
        "\n",
        "print(f'O curso {course_lectures_max.iloc[0]} é o que tem o maior número de aulas com {lectures_max} lectures')"
      ]
    },
    {
      "cell_type": "markdown",
      "metadata": {
        "id": "wVg9qj3WrD5h"
      },
      "source": [
        "10. Apresente o número (contagem) de cursos agrupados por nível (coluna *level*)."
      ]
    },
    {
      "cell_type": "code",
      "execution_count": 15,
      "metadata": {
        "id": "7KyIy5m3rSoI"
      },
      "outputs": [
        {
          "data": {
            "text/html": [
              "<div>\n",
              "<style scoped>\n",
              "    .dataframe tbody tr th:only-of-type {\n",
              "        vertical-align: middle;\n",
              "    }\n",
              "\n",
              "    .dataframe tbody tr th {\n",
              "        vertical-align: top;\n",
              "    }\n",
              "\n",
              "    .dataframe thead th {\n",
              "        text-align: right;\n",
              "    }\n",
              "</style>\n",
              "<table border=\"1\" class=\"dataframe\">\n",
              "  <thead>\n",
              "    <tr style=\"text-align: right;\">\n",
              "      <th></th>\n",
              "      <th>Level</th>\n",
              "      <th>Total</th>\n",
              "    </tr>\n",
              "  </thead>\n",
              "  <tbody>\n",
              "    <tr>\n",
              "      <th>0</th>\n",
              "      <td>All Levels</td>\n",
              "      <td>1925</td>\n",
              "    </tr>\n",
              "    <tr>\n",
              "      <th>1</th>\n",
              "      <td>Beginner Level</td>\n",
              "      <td>1271</td>\n",
              "    </tr>\n",
              "    <tr>\n",
              "      <th>2</th>\n",
              "      <td>Expert Level</td>\n",
              "      <td>58</td>\n",
              "    </tr>\n",
              "    <tr>\n",
              "      <th>3</th>\n",
              "      <td>Intermediate Level</td>\n",
              "      <td>422</td>\n",
              "    </tr>\n",
              "  </tbody>\n",
              "</table>\n",
              "</div>"
            ],
            "text/plain": [
              "                Level  Total\n",
              "0          All Levels   1925\n",
              "1      Beginner Level   1271\n",
              "2        Expert Level     58\n",
              "3  Intermediate Level    422"
            ]
          },
          "execution_count": 15,
          "metadata": {},
          "output_type": "execute_result"
        }
      ],
      "source": [
        "level = conc_course.groupby(['level'])['course_title'].count().reset_index()\n",
        "level.rename(columns={'level' : 'Level', 'course_title' : 'Total'}, inplace=True)\n",
        "level\n"
      ]
    },
    {
      "cell_type": "markdown",
      "metadata": {},
      "source": [
        "Para testar, achei que essa informação ficaria interessante de ser vista num gráfico de pizza e que, para isso, era interessante ver esses dados em percentual. Dessa maneira, testei o seguinte: "
      ]
    },
    {
      "cell_type": "code",
      "execution_count": 28,
      "metadata": {},
      "outputs": [
        {
          "data": {
            "text/html": [
              "<div>\n",
              "<style scoped>\n",
              "    .dataframe tbody tr th:only-of-type {\n",
              "        vertical-align: middle;\n",
              "    }\n",
              "\n",
              "    .dataframe tbody tr th {\n",
              "        vertical-align: top;\n",
              "    }\n",
              "\n",
              "    .dataframe thead th {\n",
              "        text-align: right;\n",
              "    }\n",
              "</style>\n",
              "<table border=\"1\" class=\"dataframe\">\n",
              "  <thead>\n",
              "    <tr style=\"text-align: right;\">\n",
              "      <th></th>\n",
              "      <th>Level</th>\n",
              "      <th>Total</th>\n",
              "      <th>percent</th>\n",
              "    </tr>\n",
              "  </thead>\n",
              "  <tbody>\n",
              "    <tr>\n",
              "      <th>0</th>\n",
              "      <td>All Levels</td>\n",
              "      <td>1925</td>\n",
              "      <td>52.366703</td>\n",
              "    </tr>\n",
              "    <tr>\n",
              "      <th>1</th>\n",
              "      <td>Beginner Level</td>\n",
              "      <td>1271</td>\n",
              "      <td>34.575626</td>\n",
              "    </tr>\n",
              "    <tr>\n",
              "      <th>2</th>\n",
              "      <td>Expert Level</td>\n",
              "      <td>58</td>\n",
              "      <td>1.577802</td>\n",
              "    </tr>\n",
              "    <tr>\n",
              "      <th>3</th>\n",
              "      <td>Intermediate Level</td>\n",
              "      <td>422</td>\n",
              "      <td>11.479869</td>\n",
              "    </tr>\n",
              "  </tbody>\n",
              "</table>\n",
              "</div>"
            ],
            "text/plain": [
              "                Level  Total    percent\n",
              "0          All Levels   1925  52.366703\n",
              "1      Beginner Level   1271  34.575626\n",
              "2        Expert Level     58   1.577802\n",
              "3  Intermediate Level    422  11.479869"
            ]
          },
          "execution_count": 28,
          "metadata": {},
          "output_type": "execute_result"
        }
      ],
      "source": [
        "#criei uma lista com os percentuais correspondentes\n",
        "new_c = [(i*100)/level['Total'].sum() for i in level['Total']]\n",
        "level['percent'] = new_c #inseri uma nova coluna no meu df 'level' que possui os percentuais correspondentes\n",
        "level\n"
      ]
    },
    {
      "cell_type": "code",
      "execution_count": 30,
      "metadata": {},
      "outputs": [
        {
          "data": {
            "image/png": "[encoded data removed]",
            "text/plain": [
              "<Figure size 640x480 with 1 Axes>"
            ]
          },
          "metadata": {},
          "output_type": "display_data"
        }
      ],
      "source": [
        "#agora, vou usar level['percent'] para criar um gráfico de pizza\n",
        "\n",
        "# Estamos criando a representação, área de plotagem\n",
        "fig1, ax1 = plt.subplots()\n",
        "\n",
        "# Criando o gráfico\n",
        "ax1.pie(level['percent'], labels=level['Level'], autopct='%1.1f%%',\n",
        "        shadow=True, startangle=90)\n",
        "\n",
        "# Com esta opção, o gráfico ficará em círculo\n",
        "ax1.axis('equal')\n",
        "\n",
        "# Mostra o gráfico\n",
        "plt.show()"
      ]
    },
    {
      "cell_type": "markdown",
      "metadata": {},
      "source": [
        "Achei interessante essa representação pois é visível que a plataforma busca uma abordagem mais \"democrática\"."
      ]
    },
    {
      "cell_type": "markdown",
      "metadata": {},
      "source": [
        "Eu peguei esse código desse repositório aqui: https://github.com/matheusbattisti/pie_charts.git\n",
        "\n",
        "Tem outras coisas legais, mas como tô testando ainda essa biblioteca e como fazer gráficos, parei no mais simples mesmo. É legal perceber que o percentual foi truncado na hr de representar e só mostrou uma casa decimal após a vírgula. "
      ]
    },
    {
      "cell_type": "markdown",
      "metadata": {
        "id": "xPzjlE_crTJY"
      },
      "source": [
        "11. Quais são os cursos mais recentes contidos na base de dados?"
      ]
    },
    {
      "cell_type": "code",
      "execution_count": 17,
      "metadata": {
        "id": "nK_H8JxYrYWZ"
      },
      "outputs": [
        {
          "data": {
            "text/html": [
              "<div>\n",
              "<style scoped>\n",
              "    .dataframe tbody tr th:only-of-type {\n",
              "        vertical-align: middle;\n",
              "    }\n",
              "\n",
              "    .dataframe tbody tr th {\n",
              "        vertical-align: top;\n",
              "    }\n",
              "\n",
              "    .dataframe thead th {\n",
              "        text-align: right;\n",
              "    }\n",
              "</style>\n",
              "<table border=\"1\" class=\"dataframe\">\n",
              "  <thead>\n",
              "    <tr style=\"text-align: right;\">\n",
              "      <th></th>\n",
              "      <th></th>\n",
              "      <th>course_title</th>\n",
              "      <th>published_timestamp</th>\n",
              "    </tr>\n",
              "  </thead>\n",
              "  <tbody>\n",
              "    <tr>\n",
              "      <th rowspan=\"3\" valign=\"top\">Business</th>\n",
              "      <th>1183</th>\n",
              "      <td>Cryptocurrency (BTC &amp; ETH) Investment &amp; Tradin...</td>\n",
              "      <td>2017-07-06 21:46:30+00:00</td>\n",
              "    </tr>\n",
              "    <tr>\n",
              "      <th>1164</th>\n",
              "      <td>Forex how traders beat the markest with little...</td>\n",
              "      <td>2017-07-06 21:16:13+00:00</td>\n",
              "    </tr>\n",
              "    <tr>\n",
              "      <th>1027</th>\n",
              "      <td>Condor Broken Wing Butterfly Options Trading C...</td>\n",
              "      <td>2017-07-06 19:47:16+00:00</td>\n",
              "    </tr>\n",
              "    <tr>\n",
              "      <th>Music</th>\n",
              "      <th>669</th>\n",
              "      <td>ABRSM Grade III Piano Class - Handel Sonatina ...</td>\n",
              "      <td>2017-07-06 16:12:34+00:00</td>\n",
              "    </tr>\n",
              "    <tr>\n",
              "      <th>Web Dev</th>\n",
              "      <th>1201</th>\n",
              "      <td>Angular 4 Front To Back</td>\n",
              "      <td>2017-07-06 15:04:55+00:00</td>\n",
              "    </tr>\n",
              "  </tbody>\n",
              "</table>\n",
              "</div>"
            ],
            "text/plain": [
              "                                                    course_title  \\\n",
              "Business 1183  Cryptocurrency (BTC & ETH) Investment & Tradin...   \n",
              "         1164  Forex how traders beat the markest with little...   \n",
              "         1027  Condor Broken Wing Butterfly Options Trading C...   \n",
              "Music    669   ABRSM Grade III Piano Class - Handel Sonatina ...   \n",
              "Web Dev  1201                            Angular 4 Front To Back   \n",
              "\n",
              "                    published_timestamp  \n",
              "Business 1183 2017-07-06 21:46:30+00:00  \n",
              "         1164 2017-07-06 21:16:13+00:00  \n",
              "         1027 2017-07-06 19:47:16+00:00  \n",
              "Music    669  2017-07-06 16:12:34+00:00  \n",
              "Web Dev  1201 2017-07-06 15:04:55+00:00  "
            ]
          },
          "execution_count": 17,
          "metadata": {},
          "output_type": "execute_result"
        }
      ],
      "source": [
        "#conc_course.info(verbose=True)\n",
        "\n",
        "conc_course['published_timestamp'] = pd.to_datetime(conc_course['published_timestamp'])\n",
        "\n",
        "recent = conc_course.sort_values(by=['published_timestamp'], ascending=False).head(5)\n",
        "recent.filter(items=['course_title','published_timestamp'])"
      ]
    },
    {
      "cell_type": "code",
      "execution_count": null,
      "metadata": {},
      "outputs": [],
      "source": []
    },
    {
      "cell_type": "markdown",
      "metadata": {
        "id": "cwzez2xhsYLa"
      },
      "source": [
        "12. Apresente o número (contagem) de cursos agrupados por nível (coluna *level*) e por assunto (coluna *subject*)."
      ]
    },
    {
      "cell_type": "code",
      "execution_count": 18,
      "metadata": {},
      "outputs": [
        {
          "data": {
            "text/html": [
              "<div>\n",
              "<style scoped>\n",
              "    .dataframe tbody tr th:only-of-type {\n",
              "        vertical-align: middle;\n",
              "    }\n",
              "\n",
              "    .dataframe tbody tr th {\n",
              "        vertical-align: top;\n",
              "    }\n",
              "\n",
              "    .dataframe thead th {\n",
              "        text-align: right;\n",
              "    }\n",
              "</style>\n",
              "<table border=\"1\" class=\"dataframe\">\n",
              "  <thead>\n",
              "    <tr style=\"text-align: right;\">\n",
              "      <th></th>\n",
              "      <th>subject</th>\n",
              "      <th>level</th>\n",
              "      <th>course_title</th>\n",
              "    </tr>\n",
              "  </thead>\n",
              "  <tbody>\n",
              "    <tr>\n",
              "      <th>0</th>\n",
              "      <td>Business Finance</td>\n",
              "      <td>All Levels</td>\n",
              "      <td>633</td>\n",
              "    </tr>\n",
              "    <tr>\n",
              "      <th>1</th>\n",
              "      <td>Business Finance</td>\n",
              "      <td>Beginner Level</td>\n",
              "      <td>399</td>\n",
              "    </tr>\n",
              "    <tr>\n",
              "      <th>2</th>\n",
              "      <td>Business Finance</td>\n",
              "      <td>Expert Level</td>\n",
              "      <td>25</td>\n",
              "    </tr>\n",
              "    <tr>\n",
              "      <th>3</th>\n",
              "      <td>Business Finance</td>\n",
              "      <td>Intermediate Level</td>\n",
              "      <td>134</td>\n",
              "    </tr>\n",
              "    <tr>\n",
              "      <th>4</th>\n",
              "      <td>Graphic Design</td>\n",
              "      <td>All Levels</td>\n",
              "      <td>335</td>\n",
              "    </tr>\n",
              "    <tr>\n",
              "      <th>5</th>\n",
              "      <td>Graphic Design</td>\n",
              "      <td>Beginner Level</td>\n",
              "      <td>184</td>\n",
              "    </tr>\n",
              "    <tr>\n",
              "      <th>6</th>\n",
              "      <td>Graphic Design</td>\n",
              "      <td>Expert Level</td>\n",
              "      <td>7</td>\n",
              "    </tr>\n",
              "    <tr>\n",
              "      <th>7</th>\n",
              "      <td>Graphic Design</td>\n",
              "      <td>Intermediate Level</td>\n",
              "      <td>76</td>\n",
              "    </tr>\n",
              "    <tr>\n",
              "      <th>8</th>\n",
              "      <td>Musical Instruments</td>\n",
              "      <td>All Levels</td>\n",
              "      <td>324</td>\n",
              "    </tr>\n",
              "    <tr>\n",
              "      <th>9</th>\n",
              "      <td>Musical Instruments</td>\n",
              "      <td>Beginner Level</td>\n",
              "      <td>266</td>\n",
              "    </tr>\n",
              "    <tr>\n",
              "      <th>10</th>\n",
              "      <td>Musical Instruments</td>\n",
              "      <td>Expert Level</td>\n",
              "      <td>12</td>\n",
              "    </tr>\n",
              "    <tr>\n",
              "      <th>11</th>\n",
              "      <td>Musical Instruments</td>\n",
              "      <td>Intermediate Level</td>\n",
              "      <td>78</td>\n",
              "    </tr>\n",
              "    <tr>\n",
              "      <th>12</th>\n",
              "      <td>Subject: Web Development</td>\n",
              "      <td>All Levels</td>\n",
              "      <td>633</td>\n",
              "    </tr>\n",
              "    <tr>\n",
              "      <th>13</th>\n",
              "      <td>Subject: Web Development</td>\n",
              "      <td>Beginner Level</td>\n",
              "      <td>422</td>\n",
              "    </tr>\n",
              "    <tr>\n",
              "      <th>14</th>\n",
              "      <td>Subject: Web Development</td>\n",
              "      <td>Expert Level</td>\n",
              "      <td>14</td>\n",
              "    </tr>\n",
              "    <tr>\n",
              "      <th>15</th>\n",
              "      <td>Subject: Web Development</td>\n",
              "      <td>Intermediate Level</td>\n",
              "      <td>134</td>\n",
              "    </tr>\n",
              "  </tbody>\n",
              "</table>\n",
              "</div>"
            ],
            "text/plain": [
              "                     subject               level  course_title\n",
              "0           Business Finance          All Levels           633\n",
              "1           Business Finance      Beginner Level           399\n",
              "2           Business Finance        Expert Level            25\n",
              "3           Business Finance  Intermediate Level           134\n",
              "4             Graphic Design          All Levels           335\n",
              "5             Graphic Design      Beginner Level           184\n",
              "6             Graphic Design        Expert Level             7\n",
              "7             Graphic Design  Intermediate Level            76\n",
              "8        Musical Instruments          All Levels           324\n",
              "9        Musical Instruments      Beginner Level           266\n",
              "10       Musical Instruments        Expert Level            12\n",
              "11       Musical Instruments  Intermediate Level            78\n",
              "12  Subject: Web Development          All Levels           633\n",
              "13  Subject: Web Development      Beginner Level           422\n",
              "14  Subject: Web Development        Expert Level            14\n",
              "15  Subject: Web Development  Intermediate Level           134"
            ]
          },
          "execution_count": 18,
          "metadata": {},
          "output_type": "execute_result"
        }
      ],
      "source": [
        "#conc_course.info(verbose=True)\n",
        "\n",
        "level_sub = conc_course.groupby(['subject','level'])['course_title'].count().reset_index()\n",
        "level_sub"
      ]
    },
    {
      "cell_type": "markdown",
      "metadata": {
        "id": "UoU_pvOUutMo"
      },
      "source": [
        "13. Disponibilize suas análises em um repositório do Github e compartilhe o link abaixo."
      ]
    },
    {
      "cell_type": "code",
      "execution_count": 19,
      "metadata": {
        "id": "NjNInZBBu3Rl"
      },
      "outputs": [],
      "source": [
        "# link do projeto no Github"
      ]
    },
    {
      "cell_type": "markdown",
      "metadata": {
        "id": "CPKWugdJvXQf"
      },
      "source": [
        "14. Crie uma conta no <a href=\"https://www.kaggle.com/datasets/thedevastator/udemy-courses-revenue-generation-and-course-anal\">Kaggle</a> e crie um Notebook com as análises feitas neste projeto. A ideia aqui, é que você comece a criar um portfólio de análise de dados na plataforma :)"
      ]
    },
    {
      "cell_type": "code",
      "execution_count": null,
      "metadata": {
        "id": "YztEtLuqvWRe"
      },
      "outputs": [],
      "source": []
    }
  ],
  "metadata": {
    "colab": {
      "collapsed_sections": [],
      "provenance": []
    },
    "kernelspec": {
      "display_name": "Python 3.11.0 64-bit",
      "language": "python",
      "name": "python3"
    },
    "language_info": {
      "codemirror_mode": {
        "name": "ipython",
        "version": 3
      },
      "file_extension": ".py",
      "mimetype": "text/x-python",
      "name": "python",
      "nbconvert_exporter": "python",
      "pygments_lexer": "ipython3",
      "version": "3.11.0"
    },
    "vscode": {
      "interpreter": {
        "hash": "9cdb0c46291cb5b8ac2f322675b213bb3a455a4525b43a11c8a1135f1e9557c7"
      }
    }
  },
  "nbformat": 4,
  "nbformat_minor": 0
}
